{
 "cells": [
  {
   "cell_type": "code",
   "execution_count": 2,
   "id": "fbe18949-05c6-499a-a096-ded223fe88c1",
   "metadata": {},
   "outputs": [
    {
     "name": "stdout",
     "output_type": "stream",
     "text": [
      "Loading dataset...\n"
     ]
    },
    {
     "name": "stderr",
     "output_type": "stream",
     "text": [
      "Repo card metadata block was not found. Setting CardData to empty.\n"
     ]
    },
    {
     "name": "stdout",
     "output_type": "stream",
     "text": [
      "Preprocessing dataset...\n",
      "Loading tokenizer...\n",
      "Tokenizing dataset...\n",
      "Loading model with LoRA...\n"
     ]
    },
    {
     "name": "stderr",
     "output_type": "stream",
     "text": [
      "/Users/juanguitarte/anaconda3/envs/TFM/lib/python3.12/site-packages/bitsandbytes/cextension.py:34: UserWarning: The installed version of bitsandbytes was compiled without GPU support. 8-bit optimizers, 8-bit multiplication, and GPU quantization are unavailable.\n",
      "  warn(\"The installed version of bitsandbytes was compiled without GPU support. \"\n",
      "/Users/juanguitarte/anaconda3/envs/TFM/lib/python3.12/site-packages/transformers/training_args.py:1575: FutureWarning: `evaluation_strategy` is deprecated and will be removed in version 4.46 of 🤗 Transformers. Use `eval_strategy` instead\n",
      "  warnings.warn(\n",
      "/var/folders/t6/8g42ql1n2z364jdsw5_mfwzm0000gn/T/ipykernel_45595/1985883011.py:101: FutureWarning: `tokenizer` is deprecated and will be removed in version 5.0.0 for `Trainer.__init__`. Use `processing_class` instead.\n",
      "  trainer = Trainer(\n"
     ]
    },
    {
     "name": "stdout",
     "output_type": "stream",
     "text": [
      "'NoneType' object has no attribute 'cadam32bit_grad_fp32'\n",
      "trainable params: 851,968 || all params: 1,236,666,368 || trainable%: 0.0689\n",
      "Initializing Trainer...\n",
      "Starting training...\n"
     ]
    },
    {
     "data": {
      "text/html": [
       "\n",
       "    <div>\n",
       "      \n",
       "      <progress value='624' max='624' style='width:300px; height:20px; vertical-align: middle;'></progress>\n",
       "      [624/624 33:36, Epoch 3/4]\n",
       "    </div>\n",
       "    <table border=\"1\" class=\"dataframe\">\n",
       "  <thead>\n",
       " <tr style=\"text-align: left;\">\n",
       "      <th>Step</th>\n",
       "      <th>Training Loss</th>\n",
       "      <th>Validation Loss</th>\n",
       "    </tr>\n",
       "  </thead>\n",
       "  <tbody>\n",
       "    <tr>\n",
       "      <td>500</td>\n",
       "      <td>2.344300</td>\n",
       "      <td>2.411849</td>\n",
       "    </tr>\n",
       "  </tbody>\n",
       "</table><p>"
      ],
      "text/plain": [
       "<IPython.core.display.HTML object>"
      ]
     },
     "metadata": {},
     "output_type": "display_data"
    },
    {
     "name": "stdout",
     "output_type": "stream",
     "text": [
      "Saving the model...\n",
      "Training complete!\n"
     ]
    }
   ],
   "source": [
    "import os\n",
    "import torch\n",
    "from datasets import load_dataset\n",
    "from transformers import (\n",
    "    AutoTokenizer, LlamaForCausalLM, Trainer, TrainingArguments,\n",
    "    DataCollatorForLanguageModeling\n",
    ")\n",
    "from peft import LoraConfig, get_peft_model, TaskType\n",
    "\n",
    "# Enable fallback for unsupported MPS operations\n",
    "os.environ[\"PYTORCH_ENABLE_MPS_FALLBACK\"] = \"1\"\n",
    "\n",
    "# --- Load Dataset ---\n",
    "print(\"Loading dataset...\")\n",
    "dataset = load_dataset(\"nbertagnolli/counsel-chat\")\n",
    "\n",
    "# Fix for batched=True preprocessing\n",
    "def preprocess_function(examples):\n",
    "    input_texts = [\n",
    "        f\"Question Title: {title}\\nQuestion: {text}\\nAnswer: {answer}\"\n",
    "        for title, text, answer in zip(examples['questionTitle'], examples['questionText'], examples['answerText'])\n",
    "    ]\n",
    "    return {\"input_text\": input_texts}\n",
    "\n",
    "\n",
    "# Apply preprocessing\n",
    "print(\"Preprocessing dataset...\")\n",
    "dataset = dataset.map(preprocess_function, batched=True)\n",
    "dataset = dataset.remove_columns(['questionID', 'questionTitle', 'questionText', \n",
    "                                  'questionLink', 'topic', 'therapistInfo', \n",
    "                                  'therapistURL', 'answerText', 'upvotes', 'views'])\n",
    "\n",
    "# Load tokenizer\n",
    "print(\"Loading tokenizer...\")\n",
    "model_name = \"meta-llama/Llama-3.2-1B-Instruct\"\n",
    "tokenizer = AutoTokenizer.from_pretrained(model_name)\n",
    "if tokenizer.pad_token is None:\n",
    "    tokenizer.add_special_tokens({'pad_token': '[PAD]'})\n",
    "\n",
    "# Tokenize dataset\n",
    "def tokenize_function(examples):\n",
    "    return tokenizer(\n",
    "        examples[\"input_text\"], \n",
    "        truncation=True, \n",
    "        padding=\"max_length\", \n",
    "        max_length=128\n",
    "    )\n",
    "\n",
    "print(\"Tokenizing dataset...\")\n",
    "tokenized_dataset = dataset.map(tokenize_function, batched=True)\n",
    "tokenized_dataset = tokenized_dataset.remove_columns([\"input_text\"])\n",
    "\n",
    "# Split dataset into train and evaluation\n",
    "split_datasets = tokenized_dataset[\"train\"].train_test_split(test_size=0.1)\n",
    "train_dataset = split_datasets[\"train\"]\n",
    "eval_dataset = split_datasets[\"test\"]\n",
    "\n",
    "# Data collator for causal LM\n",
    "data_collator = DataCollatorForLanguageModeling(\n",
    "    tokenizer=tokenizer, mlm=False, pad_to_multiple_of=8\n",
    ")\n",
    "\n",
    "# --- Load Model with LoRA ---\n",
    "print(\"Loading model with LoRA...\")\n",
    "model = LlamaForCausalLM.from_pretrained(\n",
    "    model_name,\n",
    "    device_map=\"auto\",\n",
    "    torch_dtype=torch.float32  # Use float32 for MPS\n",
    ")\n",
    "\n",
    "# Configure LoRA\n",
    "lora_config = LoraConfig(\n",
    "    task_type=TaskType.CAUSAL_LM,\n",
    "    r=8,                          # Low rank for LoRA\n",
    "    lora_alpha=16,                # Alpha scaling\n",
    "    lora_dropout=0.1,             # Dropout for LoRA layers\n",
    "    bias=\"none\"\n",
    ")\n",
    "model = get_peft_model(model, lora_config)\n",
    "model.print_trainable_parameters()\n",
    "\n",
    "# --- Training Arguments ---\n",
    "training_args = TrainingArguments(\n",
    "    output_dir=\"./counsel_chat_prueba_LlamaForCausalLM\",\n",
    "    per_device_train_batch_size=2,         # Small batch size for MPS\n",
    "    gradient_accumulation_steps=8,         # Simulates larger batch size\n",
    "    num_train_epochs=4,\n",
    "    learning_rate=5e-5,\n",
    "    logging_steps=10,\n",
    "    save_steps=500,\n",
    "    save_total_limit=1,\n",
    "    evaluation_strategy=\"steps\",\n",
    "    eval_steps=500,\n",
    "    bf16=False,                            # Use float32 instead of bf16 on MPS\n",
    "    fp16=False,                            # FP16 not supported on MPS\n",
    "    report_to=\"none\",\n",
    ")\n",
    "\n",
    "# --- Trainer ---\n",
    "print(\"Initializing Trainer...\")\n",
    "trainer = Trainer(\n",
    "    model=model,\n",
    "    args=training_args,\n",
    "    train_dataset=train_dataset,\n",
    "    eval_dataset=eval_dataset,\n",
    "    data_collator=data_collator,\n",
    "    tokenizer=tokenizer,\n",
    ")\n",
    "\n",
    "# --- Train Model ---\n",
    "print(\"Starting training...\")\n",
    "trainer.train()\n",
    "\n",
    "# Save the fine-tuned model\n",
    "print(\"Saving the model...\")\n",
    "model.save_pretrained(\"./llama-lora-counsel-chat-LLamaForCausalLM\")\n",
    "tokenizer.save_pretrained(\"./llama-lora-counsel-chat-LLamaForCausalLM\")\n",
    "print(\"Training complete!\")\n"
   ]
  },
  {
   "cell_type": "code",
   "execution_count": 3,
   "id": "3c63e5a1-d6a6-4044-875d-eb6c369e34c1",
   "metadata": {},
   "outputs": [
    {
     "data": {
      "text/html": [
       "\n",
       "    <div>\n",
       "      \n",
       "      <progress value='35' max='35' style='width:300px; height:20px; vertical-align: middle;'></progress>\n",
       "      [35/35 00:14]\n",
       "    </div>\n",
       "    "
      ],
      "text/plain": [
       "<IPython.core.display.HTML object>"
      ]
     },
     "metadata": {},
     "output_type": "display_data"
    }
   ],
   "source": [
    "metrics = trainer.evaluate()"
   ]
  },
  {
   "cell_type": "code",
   "execution_count": 4,
   "id": "18b45954-a238-4ee9-be2c-8e26357ed167",
   "metadata": {},
   "outputs": [
    {
     "data": {
      "text/plain": [
       "{'eval_loss': 2.4064571857452393,\n",
       " 'eval_runtime': 14.6764,\n",
       " 'eval_samples_per_second': 18.942,\n",
       " 'eval_steps_per_second': 2.385,\n",
       " 'epoch': 3.979983987189752}"
      ]
     },
     "execution_count": 4,
     "metadata": {},
     "output_type": "execute_result"
    }
   ],
   "source": [
    "metrics"
   ]
  },
  {
   "cell_type": "code",
   "execution_count": 45,
   "id": "cd838d7f-7fcb-43fd-9d0f-c9690ce1ca2f",
   "metadata": {},
   "outputs": [
    {
     "name": "stdout",
     "output_type": "stream",
     "text": [
      "Loading dataset...\n"
     ]
    },
    {
     "name": "stderr",
     "output_type": "stream",
     "text": [
      "Repo card metadata block was not found. Setting CardData to empty.\n"
     ]
    },
    {
     "name": "stdout",
     "output_type": "stream",
     "text": [
      "Preprocessing dataset for evaluation...\n",
      "Processed dataset columns: ['reference', 'input_text']\n",
      "Loading tokenizer and model...\n",
      "Using a subset for evaluation...\n",
      "\n",
      "Calculating Perplexity...\n",
      "Perplexity: 4.66\n",
      "\n",
      "Calculating ROUGE Scores...\n"
     ]
    },
    {
     "name": "stderr",
     "output_type": "stream",
     "text": [
      "Device set to use mps:0\n",
      "Device set to use mps:0\n"
     ]
    },
    {
     "name": "stdout",
     "output_type": "stream",
     "text": [
      "ROUGE Scores: {'rouge1': 0.2360869375992431, 'rouge2': 0.04786254003324687, 'rougeL': 0.14089765223275297, 'rougeLsum': 0.16715064775597616}\n",
      "\n",
      "Calculating Diversity...\n",
      "Diversity Score: 9.9140\n",
      "\n",
      "Human Evaluation...\n",
      "Human evaluation should be performed manually by assessing relevance, coherence, and empathy.\n",
      "Human Evaluation: Pending human feedback\n"
     ]
    }
   ],
   "source": [
    "import os\n",
    "import torch\n",
    "from datasets import load_dataset\n",
    "from transformers import (\n",
    "    AutoTokenizer, AutoModelForCausalLM, pipeline\n",
    ")\n",
    "import evaluate\n",
    "import numpy as np\n",
    "\n",
    "# Enable fallback for unsupported MPS operations\n",
    "os.environ[\"PYTORCH_ENABLE_MPS_FALLBACK\"] = \"1\"\n",
    "\n",
    "# -------------------------------\n",
    "# Configuration\n",
    "# -------------------------------\n",
    "MODEL_NAME = \"./llama-lora-counsel-chat-LLamaForCausalLM\"  # Replace with your trained model name\n",
    "DATASET_NAME = \"nbertagnolli/counsel-chat\"  # Example dataset for evaluation\n",
    "TEXT_COLUMN = \"input_text\"  # Column in dataset containing input text\n",
    "REFERENCE_COLUMN = \"reference\"  # Column for reference text\n",
    "MAX_NEW_TOKENS = 50  # Max tokens to generate\n",
    "MAX_LENGTH = 128  # Max token length for evaluation\n",
    "DEVICE = torch.device(\"mps\" if torch.backends.mps.is_available() else \"cpu\")\n",
    "\n",
    "# -------------------------------\n",
    "# Preprocessing Dataset\n",
    "# -------------------------------\n",
    "def preprocess_function(examples):\n",
    "    \"\"\"Preprocess dataset to create input_text.\"\"\"\n",
    "    input_texts = [\n",
    "        f\"Question Title: {title}\\nQuestion: {text}\"\n",
    "        for title, text in zip(examples['questionTitle'], examples['questionText'])\n",
    "    ]\n",
    "    return {\"input_text\": input_texts}\n",
    "\n",
    "print(\"Loading dataset...\")\n",
    "dataset = load_dataset(DATASET_NAME)\n",
    "\n",
    "# Preprocess and rename columns\n",
    "print(\"Preprocessing dataset for evaluation...\")\n",
    "dataset = dataset.map(preprocess_function, batched=True)\n",
    "dataset = dataset.rename_column(\"answerText\", \"reference\")\n",
    "dataset = dataset.remove_columns(['questionID', 'questionTitle', 'questionText', \n",
    "                                  'questionLink', 'topic', 'therapistInfo', \n",
    "                                  'therapistURL', 'upvotes', 'views'])\n",
    "\n",
    "print(\"Processed dataset columns:\", dataset[\"train\"].column_names)\n",
    "\n",
    "# -------------------------------\n",
    "# Load Model and Tokenizer\n",
    "# -------------------------------\n",
    "print(\"Loading tokenizer and model...\")\n",
    "tokenizer = AutoTokenizer.from_pretrained(MODEL_NAME)\n",
    "model = AutoModelForCausalLM.from_pretrained(MODEL_NAME).to(DEVICE)\n",
    "\n",
    "# -------------------------------\n",
    "# Metric 1: Perplexity\n",
    "# -------------------------------\n",
    "def calculate_perplexity(model, tokenizer, dataset, column, max_length):\n",
    "    \"\"\"Calculate perplexity of the model on the dataset.\"\"\"\n",
    "    model.eval()\n",
    "    losses = []\n",
    "    for sample in dataset[column]:\n",
    "        inputs = tokenizer(sample, return_tensors=\"pt\", truncation=True, max_length=max_length).to(DEVICE)\n",
    "        with torch.no_grad():\n",
    "            outputs = model(**inputs, labels=inputs[\"input_ids\"])\n",
    "            loss = outputs.loss\n",
    "            losses.append(loss.item())\n",
    "    perplexity = np.exp(np.mean(losses))\n",
    "    return perplexity\n",
    "\n",
    "# -------------------------------\n",
    "# Metric 2: ROUGE\n",
    "# -------------------------------\n",
    "def calculate_rouge(model, tokenizer, dataset, text_column, ref_column, max_new_tokens):\n",
    "    \"\"\"Calculate ROUGE score for summarization or response generation tasks.\"\"\"\n",
    "    rouge = evaluate.load(\"rouge\")\n",
    "    predictions, references = [], []\n",
    "    generator = pipeline(\"text-generation\", model=model, tokenizer=tokenizer, device=0 if DEVICE == \"cuda\" else -1)\n",
    "    \n",
    "    for row in dataset:\n",
    "        input_text = row[text_column]\n",
    "        reference = row[ref_column]\n",
    "        generated = generator(input_text, max_new_tokens=max_new_tokens, truncation=True, do_sample=False)[0]['generated_text']\n",
    "        predictions.append(generated)\n",
    "        references.append(reference)\n",
    "    \n",
    "    rouge_results = rouge.compute(predictions=predictions, references=references)\n",
    "    return rouge_results\n",
    "\n",
    "# -------------------------------\n",
    "# Metric 3: Diversity\n",
    "# -------------------------------\n",
    "def calculate_diversity(model, tokenizer, prompts, max_new_tokens):\n",
    "    \"\"\"Calculate diversity by measuring unique n-grams.\"\"\"\n",
    "    generator = pipeline(\"text-generation\", model=model, tokenizer=tokenizer, device=0 if DEVICE == \"cuda\" else -1)\n",
    "    all_outputs = []\n",
    "    \n",
    "    for prompt in prompts:\n",
    "        outputs = generator(prompt, max_new_tokens=max_new_tokens, num_return_sequences=5, do_sample=True)\n",
    "        texts = [output[\"generated_text\"] for output in outputs]\n",
    "        all_outputs.extend(texts)\n",
    "    \n",
    "    # Calculate unique n-grams\n",
    "    def get_ngrams(text, n=2):\n",
    "        tokens = text.split()\n",
    "        return set(zip(*[tokens[i:] for i in range(n)]))\n",
    "    \n",
    "    ngrams = [get_ngrams(output) for output in all_outputs]\n",
    "    total_ngrams = set.union(*ngrams)\n",
    "    diversity_score = len(total_ngrams) / len(all_outputs)\n",
    "    return diversity_score\n",
    "\n",
    "# -------------------------------\n",
    "# Metric 4: Human Evaluation (Placeholder)\n",
    "# -------------------------------\n",
    "def placeholder_human_evaluation():\n",
    "    \"\"\"Placeholder for human evaluation results.\"\"\"\n",
    "    print(\"Human evaluation should be performed manually by assessing relevance, coherence, and empathy.\")\n",
    "    return \"Pending human feedback\"\n",
    "\n",
    "# -------------------------------\n",
    "# Main Evaluation Script\n",
    "# -------------------------------\n",
    "if __name__ == \"__main__\":\n",
    "    print(\"Using a subset for evaluation...\")\n",
    "    eval_dataset = dataset[\"train\"].select(range(100))  # Use a small subset for quick evaluation\n",
    "\n",
    "    print(\"\\nCalculating Perplexity...\")\n",
    "    perplexity = calculate_perplexity(model, tokenizer, eval_dataset, TEXT_COLUMN, MAX_LENGTH)\n",
    "    print(f\"Perplexity: {perplexity:.2f}\")\n",
    "\n",
    "    print(\"\\nCalculating ROUGE Scores...\")\n",
    "    rouge_scores = calculate_rouge(model, tokenizer, eval_dataset, TEXT_COLUMN, REFERENCE_COLUMN, max_new_tokens=MAX_NEW_TOKENS)\n",
    "    print(f\"ROUGE Scores: {rouge_scores}\")\n",
    "\n",
    "    print(\"\\nCalculating Diversity...\")\n",
    "    prompts = [row[TEXT_COLUMN] for row in eval_dataset]\n",
    "    diversity = calculate_diversity(model, tokenizer, prompts, MAX_NEW_TOKENS)\n",
    "    print(f\"Diversity Score: {diversity:.4f}\")\n",
    "\n",
    "    print(\"\\nHuman Evaluation...\")\n",
    "    human_evaluation = placeholder_human_evaluation()\n",
    "    print(f\"Human Evaluation: {human_evaluation}\")\n",
    "\n"
   ]
  },
  {
   "cell_type": "code",
   "execution_count": null,
   "id": "4441f0b4-735d-42c5-b504-f4f28db5e6c5",
   "metadata": {},
   "outputs": [],
   "source": []
  }
 ],
 "metadata": {
  "kernelspec": {
   "display_name": "Python 3 (ipykernel)",
   "language": "python",
   "name": "python3"
  },
  "language_info": {
   "codemirror_mode": {
    "name": "ipython",
    "version": 3
   },
   "file_extension": ".py",
   "mimetype": "text/x-python",
   "name": "python",
   "nbconvert_exporter": "python",
   "pygments_lexer": "ipython3",
   "version": "3.12.8"
  }
 },
 "nbformat": 4,
 "nbformat_minor": 5
}
